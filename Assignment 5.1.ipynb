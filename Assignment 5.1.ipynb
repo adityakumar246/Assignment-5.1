{
 "cells": [
  {
   "cell_type": "markdown",
   "metadata": {},
   "source": [
    "QUESTION"
   ]
  },
  {
   "cell_type": "markdown",
   "metadata": {},
   "source": [
    "Is gender independent of education level? A random sample of 395 people were\n",
    "surveyed and each person was asked to report the highest education level they\n",
    "obtained. The data that resulted from the survey is summarized in the following table:\n",
    "\n",
    "High School Bachelors Masters Ph.d. Total\n",
    "Female 60 54 46 41 201\n",
    "Male 40 44 53 57 194\n",
    "Total 100 98 99 98 395\n",
    "\n",
    "Question: Are gender and education level dependent at 5% level of significance? In\n",
    "other words, given the data collected above, is there a relationship between the gender\n",
    "of an individual and the level of education that they have obtained?"
   ]
  },
  {
   "cell_type": "markdown",
   "metadata": {},
   "source": [
    "ANSWER"
   ]
  },
  {
   "cell_type": "code",
   "execution_count": 18,
   "metadata": {},
   "outputs": [
    {
     "name": "stdout",
     "output_type": "stream",
     "text": [
      "(8.006066246262538, 0.045886500891747214, 3, array([[49.11392405, 48.13164557, 48.62278481, 48.13164557],\n",
      "       [50.88607595, 49.86835443, 50.37721519, 49.86835443]]))\n",
      "Since the ChiSquare value 8.006066246262538 is greater than ChiCritical value 7.815 \n",
      "We reject the Null Hypothesis \n",
      "Hence Education Level is dependent on Gender at a 5% level of significance\n"
     ]
    }
   ],
   "source": [
    "import numpy as np\n",
    "import pandas as pd\n",
    "from scipy.stats import chi2_contingency\n",
    "\n",
    "data = {\"Gender\" : [\"Female\", \"Male\"],\n",
    "        \"Highschool\" : [60,40],\n",
    "        \"Bachelors\" : [54,44],\n",
    "        \"Masters\" : [46,53],\n",
    "        \"PhD\" : [41,57]}\n",
    "df = pd.DataFrame(data)\n",
    "df.set_index('Gender',inplace=True)\n",
    "male = df[1:]\n",
    "female = df[0:1]\n",
    "m = np.asarray(male)[0]\n",
    "f = np.asarray(female)[0]\n",
    "x = chi2_contingency([m,f])\n",
    "print(x)\n",
    "ch_crit = 7.815 #Since, Degree of freedom = 3 and Alpha = 5%\n",
    "if x[0]>ch_crit:\n",
    "    print(\"Since the ChiSquare value\",x[0], \"is greater than ChiCritical value\",ch_crit, \"\\nWe reject the Null Hypothesis \\nHence Education Level is dependent on Gender at a 5% level of significance\")\n",
    "else:\n",
    "    print(\"Since the ChiSquare value\",x[0], \"is less than ChiCritical value\",ch_crit, \"\\nWe accept the Null Hypothesis \\nHence Education Level is not dependent on Gender at a 5% level of significance\")"
   ]
  },
  {
   "cell_type": "code",
   "execution_count": null,
   "metadata": {},
   "outputs": [],
   "source": []
  }
 ],
 "metadata": {
  "kernelspec": {
   "display_name": "Python 3",
   "language": "python",
   "name": "python3"
  },
  "language_info": {
   "codemirror_mode": {
    "name": "ipython",
    "version": 3
   },
   "file_extension": ".py",
   "mimetype": "text/x-python",
   "name": "python",
   "nbconvert_exporter": "python",
   "pygments_lexer": "ipython3",
   "version": "3.6.6"
  }
 },
 "nbformat": 4,
 "nbformat_minor": 2
}
